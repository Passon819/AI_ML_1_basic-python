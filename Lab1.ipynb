{
 "cells": [
  {
   "cell_type": "code",
   "execution_count": 109,
   "id": "72d71c89",
   "metadata": {},
   "outputs": [
    {
     "name": "stdout",
     "output_type": "stream",
     "text": [
      "Enter your sentence : Personal happiness lies in knowing that life is not a checklist of acquisition or achievement.\n",
      "OUTPUT: [8, 9, 4, 2, 7, 4, 4, 2, 3, 9, 2, 11, 2, 12]\n"
     ]
    }
   ],
   "source": [
    "#5.1 ประโยคข้อความที่ 1\n",
    "sentence = input('Enter your sentence : ')\n",
    "sentence = sentence.split(\" \")\n",
    "#print(len(sentence)) #จำนวนคำที่ได้\n",
    "output = [] #สร้าง list มาเก็บจำนวนตัวอักษรของแต่ละคำ\n",
    "\n",
    "for x in range(len(sentence)):\n",
    "\t#print(sentence[x]) #พิมพ์แต่ละคำออกมาตั้งแต่ 0 1 2...\n",
    "\tif len(sentence[x])==1 and sentence[x]=='a':\n",
    "\t\t#print(sentence[x])\n",
    "\t\tcontinue\n",
    "\telif len(sentence[x])==3 and sentence[x]=='the':\n",
    "\t\t#print(sentence[x])\n",
    "\t\tcontinue\n",
    "\telse:\n",
    "\t\toutput.append(len(sentence[x])) #แต่ละคำมีกี่ตัว เพิ่มเข้าไปใน list\n",
    "print(\"OUTPUT:\",output)"
   ]
  },
  {
   "cell_type": "code",
   "execution_count": 110,
   "id": "a9d82ce0",
   "metadata": {},
   "outputs": [
    {
     "name": "stdout",
     "output_type": "stream",
     "text": [
      "Enter your sentence : From the plural of Latin novellus, a late variant of novus.\n",
      "OUTPUT: [4, 6, 2, 5, 9, 4, 7, 2, 6]\n"
     ]
    }
   ],
   "source": [
    "#5.1 ประโยคข้อความที่ 2\n",
    "sentence = input('Enter your sentence : ')\n",
    "sentence = sentence.split(\" \")\n",
    "#print(len(sentence)) #จำนวนคำที่ได้\n",
    "output = [] #สร้าง list มาเก็บจำนวนตัวอักษรของแต่ละคำ\n",
    "\n",
    "for x in range(len(sentence)):\n",
    "\t#print(sentence[x]) #พิมพ์แต่ละคำออกมาตั้งแต่ 0 1 2...\n",
    "\tif len(sentence[x])==1 and sentence[x]=='a':\n",
    "\t\t#print(sentence[x])\n",
    "\t\tcontinue\n",
    "\telif len(sentence[x])==3 and sentence[x]=='the':\n",
    "\t\t#print(sentence[x])\n",
    "\t\tcontinue\n",
    "\telse:\n",
    "\t\toutput.append(len(sentence[x])) #แต่ละคำมีกี่ตัว เพิ่มเข้าไปใน list\n",
    "print(\"OUTPUT:\",output)"
   ]
  },
  {
   "cell_type": "code",
   "execution_count": 111,
   "id": "5ee067c8",
   "metadata": {},
   "outputs": [
    {
     "name": "stdout",
     "output_type": "stream",
     "text": [
      "T\n",
      "T\n",
      "H\n",
      "H\n",
      "H\n",
      "H\n",
      "H\n",
      "T\n",
      "H\n",
      "T\n"
     ]
    }
   ],
   "source": [
    "#5.2 ข้อ 1\n",
    "import numpy as np\n",
    "\n",
    "for x in range(10):\n",
    "\ts = np.random.randint(0,2) #สุ่มเลข 0 กับ 1 \n",
    "\tif s==1:       # 1 ให้เท่ากับเหรียญออกหัว\n",
    "\t\tprint('H')\n",
    "\telse:          # 0 ให้เท่ากับเหรียญออกก้อย\n",
    "\t\tprint('T')\n"
   ]
  },
  {
   "cell_type": "code",
   "execution_count": 115,
   "id": "1e99a0a8",
   "metadata": {},
   "outputs": [
    {
     "name": "stdout",
     "output_type": "stream",
     "text": [
      "ผลลัพธ์การโยนเหรียญ 100 ครั้ง : ['T', 'T', 'H', 'T', 'T', 'H', 'H', 'T', 'T', 'H', 'T', 'H', 'H', 'T', 'T', 'H', 'T', 'H', 'T', 'T', 'T', 'T', 'H', 'H', 'T', 'T', 'T', 'H', 'H', 'H', 'H', 'H', 'H', 'T', 'T', 'H', 'T', 'T', 'T', 'H', 'H', 'T', 'H', 'T', 'H', 'T', 'T', 'T', 'T', 'T', 'T', 'T', 'H', 'H', 'T', 'T', 'T', 'T', 'H', 'H', 'T', 'T', 'T', 'H', 'H', 'H', 'H', 'T', 'T', 'T', 'H', 'H', 'T', 'H', 'T', 'H', 'T', 'H', 'T', 'H', 'H', 'T', 'T', 'T', 'T', 'T', 'H', 'H', 'T', 'T', 'T', 'H', 'T', 'T', 'H', 'H', 'T', 'T', 'H', 'H']\n"
     ]
    }
   ],
   "source": [
    "#5.2 ข้อ 2\n",
    "import numpy as np\n",
    "\n",
    "num_tosses = 100 #ตัวแปรกำหนดจำนวนครั้งที่โยน\n",
    "result =[]       #ลิตส์เก็บผลการโยน\n",
    "\n",
    "for x in range(num_tosses):\n",
    "\ts = np.random.randint(0,2)  #สุ่มเลข 0 กับ 1 \n",
    "\tif s==1:       # 1 ให้เท่ากับเหรียญออกหัว\n",
    "\t\tresult.append('H')\n",
    "\telse:          # 0 ให้เท่ากับเหรียญออกก้อย\n",
    "\t\tresult.append('T')\n",
    "\n",
    "print('ผลลัพธ์การโยนเหรียญ',num_tosses,'ครั้ง :',result)"
   ]
  },
  {
   "cell_type": "code",
   "execution_count": 120,
   "id": "0668cf4f",
   "metadata": {
    "scrolled": true
   },
   "outputs": [
    {
     "name": "stdout",
     "output_type": "stream",
     "text": [
      "['H', 'H', 'H', 'T', 'H', 'T', 'T', 'H', 'T', 'T', 'H', 'T', 'T', 'T', 'H', 'H', 'T', 'T', 'T', 'H', 'T', 'T', 'T', 'H', 'T', 'H', 'H', 'T', 'T', 'H', 'T', 'T', 'H', 'T', 'T', 'T', 'T', 'T', 'H', 'T', 'H', 'H', 'T', 'T', 'H', 'H', 'H', 'T', 'H', 'H', 'T', 'T', 'T', 'H', 'T', 'T', 'H', 'H', 'T', 'H', 'H', 'H', 'H', 'H', 'T', 'H', 'T', 'H', 'T', 'H', 'T', 'T', 'T', 'T', 'T', 'T', 'H', 'H', 'H', 'H', 'H', 'T', 'H', 'H', 'H', 'T', 'H', 'T', 'H', 'T', 'H', 'H', 'T', 'T', 'T', 'H', 'H', 'T', 'H', 'T', 'H', 'T', 'H', 'T', 'H', 'T', 'H', 'H', 'T', 'H', 'T', 'T', 'H', 'T', 'T', 'T', 'H', 'T', 'H', 'H', 'H', 'T', 'H', 'T', 'T', 'H', 'T', 'H', 'T', 'H', 'T', 'H', 'H', 'H', 'T', 'T', 'H', 'T', 'H', 'H', 'H', 'T', 'H', 'H', 'T', 'T', 'T', 'T', 'H', 'T', 'H', 'T', 'H', 'H', 'H', 'T', 'H', 'T', 'H', 'H', 'H', 'T', 'H', 'H', 'T', 'T', 'T', 'H', 'T', 'T', 'H', 'T', 'H', 'H', 'H', 'T', 'H', 'T', 'H', 'H', 'T', 'H', 'H', 'T', 'H', 'T', 'T', 'T', 'T', 'H', 'H', 'H', 'T', 'H', 'H', 'T', 'H', 'T', 'T', 'H', 'H', 'T', 'T', 'T', 'T', 'T', 'H', 'T', 'T', 'T', 'T', 'T', 'T', 'T', 'H', 'T', 'T', 'H', 'T', 'H', 'H', 'H', 'T', 'H', 'H', 'T', 'H', 'H', 'H', 'T', 'T', 'T', 'H', 'H', 'T', 'H', 'T', 'H', 'H', 'H', 'T', 'H', 'T', 'T', 'H', 'H', 'T', 'H', 'T', 'T', 'T', 'H', 'T', 'H', 'H', 'H', 'T', 'H', 'H', 'T', 'H', 'T', 'H', 'T', 'H', 'H', 'H', 'H', 'T', 'H', 'T', 'H', 'H', 'H', 'T', 'T', 'T', 'H', 'T', 'H', 'H', 'T', 'T', 'T', 'H', 'H', 'T', 'H', 'T', 'H', 'T', 'T', 'H', 'T', 'T', 'H', 'H', 'H', 'H', 'T', 'T', 'H', 'T', 'H', 'T', 'T', 'H', 'T', 'H', 'H', 'T', 'H', 'H', 'T', 'H', 'T', 'T', 'H', 'H', 'H', 'T', 'T', 'H', 'H', 'H', 'T', 'H', 'H', 'H', 'T', 'T', 'T', 'H', 'H', 'H', 'H', 'T', 'H', 'T', 'T', 'T', 'T', 'H', 'H', 'T', 'H', 'H', 'H', 'T', 'H', 'H', 'T', 'H', 'T', 'H', 'T', 'H', 'T', 'T', 'H', 'T', 'H', 'T', 'H', 'H', 'T', 'H', 'H', 'H', 'T', 'T', 'H', 'H', 'T', 'H', 'T', 'T', 'H', 'H', 'T', 'T', 'H', 'T', 'H', 'H', 'T', 'T', 'H', 'H', 'H', 'T', 'T', 'H', 'H', 'T', 'T', 'H', 'H', 'H', 'T', 'T', 'H', 'T', 'T', 'H', 'T', 'T', 'T', 'T', 'T', 'T', 'T', 'T', 'H', 'H', 'T', 'T', 'H', 'T', 'T', 'T', 'T', 'T', 'T', 'T', 'T', 'H', 'T', 'T', 'H', 'H', 'T', 'H', 'T', 'T', 'H', 'T', 'T', 'T', 'H', 'T', 'T', 'H', 'T', 'H', 'H', 'T', 'H', 'T', 'H', 'H', 'H', 'H', 'T', 'H', 'T', 'H', 'T', 'H', 'H', 'H', 'T', 'H', 'T', 'T', 'T', 'H', 'H', 'H', 'H', 'T', 'H', 'H', 'H', 'H', 'H', 'T', 'T', 'T', 'H', 'T', 'H', 'H', 'T', 'T', 'T', 'T', 'H', 'T', 'T', 'T', 'H', 'T', 'T', 'H', 'T', 'H', 'T', 'H', 'T', 'T', 'H', 'H', 'T', 'T', 'H', 'H', 'H', 'H', 'H', 'H', 'H', 'H', 'H', 'T', 'H', 'T', 'T', 'H', 'H', 'T', 'H', 'T', 'H', 'H', 'H', 'T', 'H', 'H', 'H', 'H', 'H', 'H', 'H', 'T', 'H', 'T', 'T', 'H', 'H', 'T', 'T', 'T', 'H', 'H', 'H', 'T', 'H', 'H', 'H', 'H', 'H', 'H', 'H', 'H', 'T', 'H', 'T', 'H', 'T', 'H', 'T', 'H', 'T', 'H', 'T', 'T', 'T', 'H', 'H', 'H', 'H', 'T', 'T', 'H', 'H', 'T', 'T', 'T', 'T', 'H', 'H', 'H', 'H', 'H', 'H', 'H', 'T', 'H', 'H', 'H', 'H', 'T', 'T', 'H', 'T', 'T', 'H', 'T', 'T', 'H', 'T', 'T', 'T', 'H', 'H', 'H', 'T', 'H', 'T', 'H', 'T', 'H', 'T', 'H', 'H', 'T', 'T', 'T', 'H', 'T', 'H', 'T', 'H', 'T', 'H', 'H', 'H', 'H', 'T', 'T', 'H', 'T', 'H', 'T', 'T', 'H', 'H', 'H', 'H', 'T', 'H', 'T', 'H', 'T', 'T', 'H', 'H', 'T', 'T', 'H', 'T', 'T', 'T', 'H', 'T', 'H', 'H', 'H', 'H', 'H', 'H', 'T', 'H', 'T', 'T', 'T', 'T', 'T', 'T', 'H', 'H', 'T', 'T', 'T', 'T', 'H', 'H', 'T', 'T', 'T', 'T', 'T', 'T', 'H', 'T', 'T', 'H', 'T', 'H', 'T', 'H', 'T', 'H', 'H', 'H', 'T', 'T', 'H', 'H', 'H', 'T', 'H', 'H', 'H', 'T', 'T', 'T', 'H', 'T', 'T', 'T', 'T', 'T', 'T', 'T', 'T', 'H', 'T', 'T', 'T', 'H', 'T', 'H', 'H', 'T', 'H', 'T', 'T', 'T', 'H', 'H', 'H', 'H', 'H', 'H', 'H', 'H', 'H', 'T', 'T', 'T', 'H', 'H', 'T', 'H', 'H', 'H', 'T', 'T', 'T', 'H', 'H', 'T', 'T', 'H', 'T', 'T', 'T', 'H', 'T', 'T', 'T', 'H', 'H', 'H', 'T', 'T', 'H', 'T', 'T', 'T', 'T', 'T', 'T', 'H', 'H', 'H', 'T', 'H', 'H', 'T', 'T', 'H', 'H', 'H', 'H', 'H', 'H', 'T', 'H', 'T', 'H', 'T', 'H', 'T', 'H', 'H', 'T', 'T', 'T', 'H', 'T', 'T', 'H', 'T', 'H', 'T', 'H', 'T', 'T', 'T', 'H', 'H', 'H', 'H', 'T', 'H', 'T', 'H', 'T', 'H', 'H', 'H', 'T', 'H', 'T', 'T', 'T', 'T', 'T', 'H', 'H', 'T', 'H', 'H', 'H', 'H', 'T', 'T', 'H', 'H', 'T', 'H', 'T', 'H', 'T', 'H', 'H', 'H', 'H', 'T', 'T', 'H', 'T', 'T', 'T', 'T', 'T', 'T', 'H', 'H', 'T', 'T', 'H', 'H', 'H', 'T', 'T', 'T', 'T', 'H', 'T', 'H', 'H', 'T', 'H', 'T', 'H', 'T', 'T', 'H', 'H', 'T', 'H', 'T', 'H', 'T', 'H', 'H', 'T', 'H', 'H', 'H', 'H', 'H', 'T', 'T', 'T', 'H', 'T', 'T', 'T', 'T', 'H', 'H', 'T', 'H', 'H', 'H', 'T', 'H', 'T', 'H', 'T', 'T', 'T', 'H', 'H', 'H', 'H', 'H', 'H', 'H', 'H', 'H', 'H', 'H', 'H', 'H', 'T', 'H', 'H', 'T', 'T', 'T', 'H', 'H', 'T', 'T', 'H', 'T', 'T', 'H', 'T', 'T', 'H', 'H', 'H', 'H', 'H', 'H', 'H', 'H', 'H', 'T', 'T', 'T', 'T', 'H', 'T', 'T', 'T', 'T', 'T', 'T', 'H', 'H', 'H', 'T', 'H', 'H', 'T', 'H', 'H', 'T', 'H', 'H', 'H', 'T', 'T', 'T', 'H', 'H', 'T', 'T', 'T', 'H', 'H', 'H', 'H', 'T', 'T', 'T', 'T', 'H', 'H', 'T', 'T', 'T']\n"
     ]
    }
   ],
   "source": [
    "#5.2 ข้อ 3\n",
    "import numpy as np\n",
    "\n",
    "def toss_fair_coin(num_tosses):\n",
    "\tresult =[]         #ลิตส์เก็บผลการโยน\n",
    "\tfor x in range(num_tosses):\n",
    "\t\ts = np.random.randint(0,2)  #สุ่มเลข 0 กับ 1 \n",
    "\t\tif s==1:       # 1 ให้เท่ากับเหรียญออกหัว\n",
    "\t\t\tresult.append('H')\n",
    "\t\telse:          # 0 ให้เท่ากับเหรียญออกก้อย\n",
    "\t\t\tresult.append('T')\n",
    "\treturn result\n",
    "\n",
    "returnValue = toss_fair_coin(1000)  #เรียกใช้ฟังก์ชั่นเพื่อโยนเหรียญ 1,000 ครั้ง\n",
    "print(returnValue)"
   ]
  },
  {
   "cell_type": "code",
   "execution_count": 123,
   "id": "d1fff6b6",
   "metadata": {},
   "outputs": [
    {
     "name": "stdout",
     "output_type": "stream",
     "text": [
      "ผลลัพธ์การโยนเหรียญที่ออกหัว(H) =  484 ครั้ง\n"
     ]
    }
   ],
   "source": [
    "#5.2 ข้อ 4\n",
    "import numpy as np\n",
    "\n",
    "def toss_fair_coin(num_tosses):\n",
    "\tresult =[]         #ลิตส์เก็บผลการโยน\n",
    "\tfor x in range(num_tosses):\n",
    "\t\ts = np.random.randint(0,2)  #สุ่มเลข 0 กับ 1 \n",
    "\t\tif s==1:       # 1 ให้เท่ากับเหรียญออกหัว\n",
    "\t\t\tresult.append('H')\n",
    "\t\telse:          # 0 ให้เท่ากับเหรียญออกก้อย\n",
    "\t\t\tresult.append('T')\n",
    "\treturn result\n",
    "\n",
    "returnValue = toss_fair_coin(1000)  #เรียกใช้ฟังก์ชั่นเพื่อโยนเหรียญ 1,000 ครั้ง\n",
    "\n",
    "count = returnValue.count('H')\n",
    "print('ผลลัพธ์การโยนเหรียญที่ออกหัว(H) = ',count,'ครั้ง')"
   ]
  },
  {
   "cell_type": "code",
   "execution_count": 126,
   "id": "8fd5bb9b",
   "metadata": {},
   "outputs": [
    {
     "data": {
      "image/png": "[encoded data removed]",
      "text/plain": [
       "<Figure size 640x480 with 1 Axes>"
      ]
     },
     "metadata": {},
     "output_type": "display_data"
    }
   ],
   "source": [
    "#5.2 ข้อ 5\n",
    "import numpy as np\n",
    "import matplotlib.pyplot as plt\n",
    "\n",
    "def toss_fair_coin(num_tosses):\n",
    "\tresult =[]         #ลิตส์เก็บผลการโยน\n",
    "\tfor x in range(num_tosses):\n",
    "\t\ts = np.random.randint(0,2)  #สุ่มเลข 0 กับ 1 \n",
    "\t\tif s==1:       # 1 ให้เท่ากับเหรียญออกหัว\n",
    "\t\t\tresult.append('H')\n",
    "\t\telse:          # 0 ให้เท่ากับเหรียญออกก้อย\n",
    "\t\t\tresult.append('T')\n",
    "\treturn result\n",
    "\n",
    "returnValue = toss_fair_coin(1000)  #เรียกใช้ฟังก์ชั่นเพื่อโยนเหรียญ 1,000 ครั้ง\n",
    "\n",
    "plt.hist(returnValue,color ='orange')\n",
    "plt.show()"
   ]
  },
  {
   "cell_type": "code",
   "execution_count": null,
   "id": "89cdf8f7",
   "metadata": {},
   "outputs": [],
   "source": []
  }
 ],
 "metadata": {
  "kernelspec": {
   "display_name": "Python 3 (ipykernel)",
   "language": "python",
   "name": "python3"
  },
  "language_info": {
   "codemirror_mode": {
    "name": "ipython",
    "version": 3
   },
   "file_extension": ".py",
   "mimetype": "text/x-python",
   "name": "python",
   "nbconvert_exporter": "python",
   "pygments_lexer": "ipython3",
   "version": "3.10.9"
  }
 },
 "nbformat": 4,
 "nbformat_minor": 5
}
